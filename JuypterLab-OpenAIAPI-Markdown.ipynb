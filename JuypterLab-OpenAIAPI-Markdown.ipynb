{
 "cells": [
  {
   "cell_type": "markdown",
   "id": "68d53bdf-85f5-492a-9cfa-08219ea33f1c",
   "metadata": {},
   "source": [
    "Google: \"Jupyter Lab Desktop\n",
    "Git Hub README.md File"
   ]
  },
  {
   "cell_type": "code",
   "execution_count": null,
   "id": "9d9415e7-83ec-4da3-a958-60800e0a0100",
   "metadata": {},
   "outputs": [],
   "source": [
    "Select Operating System, ex. \"Windows Installer\"    "
   ]
  },
  {
   "cell_type": "code",
   "execution_count": null,
   "id": "1f715a9e-bd5d-4c93-8b66-5637192514c1",
   "metadata": {},
   "outputs": [],
   "source": [
    "Click: \"JupyterLab-Setup.exe\n",
    "Install\n",
    "Finish"
   ]
  },
  {
   "cell_type": "code",
   "execution_count": null,
   "id": "81fcf1bc-ea76-4bea-bdfd-f78a9b344956",
   "metadata": {},
   "outputs": [],
   "source": [
    "If prompted: Trusted Source \"Open\""
   ]
  },
  {
   "cell_type": "code",
   "execution_count": null,
   "id": "6985acca-f1a1-44aa-b74f-2ed29125f11b",
   "metadata": {},
   "outputs": [],
   "source": [
    "Click \"Lab\" Icon to run program"
   ]
  },
  {
   "cell_type": "code",
   "execution_count": null,
   "id": "6f446e57-de0f-4a88-b535-ec91c5d7512c",
   "metadata": {},
   "outputs": [],
   "source": [
    "Open Notebook"
   ]
  },
  {
   "cell_type": "code",
   "execution_count": null,
   "id": "d3f23a6c-7942-4865-923f-51497bce2c0b",
   "metadata": {},
   "outputs": [],
   "source": [
    "Click Plus Sign To Open Notebook"
   ]
  },
  {
   "cell_type": "code",
   "execution_count": null,
   "id": "5e36f6b9-a346-4101-b83f-e74262a91689",
   "metadata": {},
   "outputs": [],
   "source": [
    "Create New Folder \".ipnyb\" \n",
    "Right Click to rename"
   ]
  },
  {
   "cell_type": "code",
   "execution_count": null,
   "id": "0d481e13-9f13-4a24-8dc7-5e32ff6df023",
   "metadata": {},
   "outputs": [],
   "source": [
    "Initialize Python 3"
   ]
  },
  {
   "cell_type": "code",
   "execution_count": null,
   "id": "e4746847-62a6-4c06-a2d3-68b3e122d4fd",
   "metadata": {},
   "outputs": [],
   "source": [
    "Create Open AI Account\n",
    "1.  Google OpenAI\n",
    "2.  Click OpenAI website: \"OpenAI.com\"\n",
    "3.  Create Account\n",
    "4.  Sign In"
   ]
  },
  {
   "cell_type": "code",
   "execution_count": null,
   "id": "7764ba58-f80e-462f-8a99-401482afba81",
   "metadata": {},
   "outputs": [],
   "source": [
    "https://platform.openai.com/apps\n",
    "Select \"API\"\n",
    "Welcome to Open AI Platform Header\n",
    "Click your ICON or THE WORD \"Personal\" Tab in upper right hand corner\n",
    "    1.  Click \"View API Keys\""
   ]
  },
  {
   "cell_type": "code",
   "execution_count": null,
   "id": "df60931c-d9c0-4371-b3a0-7d166f1765ad",
   "metadata": {},
   "outputs": [],
   "source": [
    "Click \"+\" \"Create new secret key\"\n",
    "1.  Name your API Key\n",
    "2.  Click Copy Icon\n",
    "3.  Create Word/Google Doc \n",
    "    a.  Label:  ENVIRONMENT NAME:\n",
    "                ENVIRONMENT VALUE:"
   ]
  },
  {
   "cell_type": "code",
   "execution_count": null,
   "id": "c9b046b4-4881-4afa-98ee-e867fc2160b0",
   "metadata": {},
   "outputs": [],
   "source": [
    "Set API to your local environment variables\n",
    "(Python calls your variables within your code)\n",
    "\n",
    "1.  Google \"phoenixnap.com set environment variable in windows via gui\"\n",
    "2.  https://phoenixnap.com/kb/windows-set-environment-variable\n",
    "3.  Scroll down to \"Set Environment Variable In Windows via GUI\"\n",
    "4.  Follow Steps"
   ]
  },
  {
   "cell_type": "code",
   "execution_count": null,
   "id": "3b4076ad-41db-4501-9af5-ccb03c90926e",
   "metadata": {},
   "outputs": [],
   "source": [
    "Windows + R - To Open Commnand Prompt\n",
    "1.  Click \"Advanced\" on the top bar tabs\n",
    "2.  Click Environment Variables\n",
    "3.  Click \"New\" under \"System Variable\"\n",
    "4.  Copy and Past variables in respective places (Name:Value)\n",
    "5.  Click \"OK\""
   ]
  },
  {
   "cell_type": "code",
   "execution_count": null,
   "id": "f302f36f-4d55-4f4a-b8e7-e495995a3d4f",
   "metadata": {},
   "outputs": [],
   "source": [
    "random \"print\""
   ]
  }
 ],
 "metadata": {
  "kernelspec": {
   "display_name": "Python 3 (ipykernel)",
   "language": "python",
   "name": "python3"
  },
  "language_info": {
   "codemirror_mode": {
    "name": "ipython",
    "version": 3
   },
   "file_extension": ".py",
   "mimetype": "text/x-python",
   "name": "python",
   "nbconvert_exporter": "python",
   "pygments_lexer": "ipython3",
   "version": "3.11.4"
  }
 },
 "nbformat": 4,
 "nbformat_minor": 5
}
